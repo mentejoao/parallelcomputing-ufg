{
 "cells": [
  {
   "cell_type": "code",
   "execution_count": 2,
   "id": "39ba1256-17fe-43c6-92cb-c661245ae1f1",
   "metadata": {},
   "outputs": [],
   "source": [
    "import cupy as cp"
   ]
  },
  {
   "cell_type": "code",
   "execution_count": 3,
   "id": "aa7ac584-f4dc-4747-b6e0-ab9645bdf454",
   "metadata": {},
   "outputs": [],
   "source": [
    "def normalize_sequential(image_array):\n",
    "    \"\"\"\n",
    "    Normaliza os pixels de uma imagem.\n",
    "\n",
    "    Parâmetros:\n",
    "    image_array (numpy array): Array numpy da imagem a ser normalizada.\n",
    "\n",
    "    Retorna:\n",
    "    numpy array: O array da imagem normalizada.\n",
    "    \"\"\"\n",
    "    \n",
    "    image_array = image_array.astype(np.float32)\n",
    "    \n",
    "    xmin, xmax = image_array.min(), image_array.max()\n",
    "\n",
    "    if xmin == xmax:\n",
    "        raise ValueError(\"xmin e xmax não podem ser iguais, pois causariam uma divisão por zero.\")\n",
    "    \n",
    "    normalized_array = (image_array - xmin) / (xmax - xmin)\n",
    "    \n",
    "    # Converte o array normalizado de volta para a faixa de 0-255\n",
    "    normalized_array = (normalized_array * 255).astype(np.uint8)\n",
    "    \n",
    "    return normalized_array"
   ]
  },
  {
   "cell_type": "code",
   "execution_count": 4,
   "id": "bba50787-a7e9-4523-9492-0ad19a3f543f",
   "metadata": {},
   "outputs": [],
   "source": [
    "# Define um kernel CUDA customizado usando RawKernel\n",
    "kernel_code = '''\n",
    "extern \"C\" __global__\n",
    "void normalize_kernel(float* image, float xmin, float xmax, float* result, int size) {\n",
    "    int idx = blockDim.x * blockIdx.x + threadIdx.x;\n",
    "    if (idx < size) {\n",
    "        result[idx] = (image[idx] - xmin) / (xmax - xmin) * 255.0;\n",
    "    }\n",
    "}\n",
    "'''\n",
    "\n",
    "normalize_kernel = cp.RawKernel(kernel_code, 'normalize_kernel')\n",
    "\n",
    "def normalize_custom(image_array):\n",
    "    \"\"\"\n",
    "    Normaliza os pixels de uma imagem usando um kernel CUDA customizado.\n",
    "\n",
    "    Parâmetros:\n",
    "    image_array (cupy array): Array da imagem a ser normalizada.\n",
    "\n",
    "    Retorna:\n",
    "    cupy array: O array da imagem normalizada.\n",
    "    \"\"\"\n",
    "    image_array = cp.asarray(image_array, dtype=cp.float32)\n",
    "    xmin, xmax = cp.min(image_array), cp.max(image_array)\n",
    "\n",
    "    if xmin == xmax:\n",
    "        raise ValueError(\"xmin e xmax não podem ser iguais, pois causariam uma divisão por zero.\")\n",
    "\n",
    "    normalized_array = cp.empty_like(image_array)\n",
    "\n",
    "    size = image_array.size\n",
    "    block_size = 256\n",
    "    grid_size = (size + block_size - 1) // block_size\n",
    "\n",
    "    normalize_kernel((grid_size,), (block_size,), (image_array, xmin, xmax, normalized_array, size))\n",
    "\n",
    "    return normalized_array.astype(cp.uint8)"
   ]
  },
  {
   "cell_type": "code",
   "execution_count": 8,
   "id": "6d921620-3875-4147-a171-052f3d48d90f",
   "metadata": {},
   "outputs": [],
   "source": [
    "def normalize_s(image_array):\n",
    "    \"\"\"\n",
    "    Normaliza os pixels de uma imagem.\n",
    "\n",
    "    Parâmetros:\n",
    "    image_array (numpy array): Array numpy da imagem a ser normalizada.\n",
    "\n",
    "    Retorna:\n",
    "    numpy array: O array da imagem normalizada.\n",
    "    \"\"\"\n",
    "    \n",
    "    image_array = image_array.astype(np.float32)\n",
    "    \n",
    "    # Inicializa xmin e xmax com valores extremos\n",
    "    xmin = float('inf')\n",
    "    xmax = float('-inf')\n",
    "\n",
    "    # Itera através de todos os elementos do array para encontrar xmin e xmax\n",
    "    for row in image_array:\n",
    "        for pixel in row:\n",
    "            if pixel < xmin:\n",
    "                xmin = pixel\n",
    "            if pixel > xmax:\n",
    "                xmax = pixel\n",
    "\n",
    "    if xmin == xmax:\n",
    "        raise ValueError(\"xmin e xmax não podem ser iguais, pois causariam uma divisão por zero.\")\n",
    "    \n",
    "    normalized_array = (image_array - xmin) / (xmax - xmin)\n",
    "    \n",
    "    # Converte o array normalizado de volta para a faixa de 0-255\n",
    "    normalized_array = (normalized_array * 255).astype(np.uint8)\n",
    "    \n",
    "    return normalized_array"
   ]
  },
  {
   "cell_type": "code",
   "execution_count": 12,
   "id": "4d182640-22d8-4730-b724-985635b72dbe",
   "metadata": {},
   "outputs": [],
   "source": [
    "import numpy as np\n",
    "\n",
    "rows, cols = 10000, 10000\n",
    "\n",
    "# Criando o array com valores aleatórios entre 0 e 255\n",
    "large_array = np.random.randint(0, 256, (rows, cols), dtype=np.uint8)"
   ]
  },
  {
   "cell_type": "code",
   "execution_count": 14,
   "id": "a475b48a-d32b-4998-b1f5-d099c1153459",
   "metadata": {
    "scrolled": true
   },
   "outputs": [
    {
     "name": "stdout",
     "output_type": "stream",
     "text": [
      "430 ms ± 10.3 ms per loop (mean ± std. dev. of 5 runs, 100 loops each)\n"
     ]
    }
   ],
   "source": [
    "%%timeit -n 100 -r 5\n",
    "normalize_sequential(large_array)"
   ]
  },
  {
   "cell_type": "code",
   "execution_count": 15,
   "id": "1d3ebbc3-3a8b-4061-a187-e97c88f7869e",
   "metadata": {},
   "outputs": [
    {
     "name": "stdout",
     "output_type": "stream",
     "text": [
      "180 ms ± 8.65 ms per loop (mean ± std. dev. of 7 runs, 1 loop each)\n"
     ]
    }
   ],
   "source": [
    "%%timeit\n",
    "normalize_custom(large_array)"
   ]
  }
 ],
 "metadata": {
  "kernelspec": {
   "display_name": "Python 3 (ipykernel)",
   "language": "python",
   "name": "python3"
  },
  "language_info": {
   "codemirror_mode": {
    "name": "ipython",
    "version": 3
   },
   "file_extension": ".py",
   "mimetype": "text/x-python",
   "name": "python",
   "nbconvert_exporter": "python",
   "pygments_lexer": "ipython3",
   "version": "3.12.3"
  }
 },
 "nbformat": 4,
 "nbformat_minor": 5
}
